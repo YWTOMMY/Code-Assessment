{
 "cells": [
  {
   "cell_type": "code",
   "execution_count": 2,
   "metadata": {},
   "outputs": [],
   "source": [
    "from fredapi import Fred\n",
    "import pandas as pd"
   ]
  },
  {
   "cell_type": "code",
   "execution_count": 3,
   "metadata": {},
   "outputs": [],
   "source": [
    "API_KEY = 'b45ebae3eee229f0b4904f5c9ffdefe3'\n",
    "fred = Fred(api_key=API_KEY)"
   ]
  },
  {
   "cell_type": "code",
   "execution_count": 4,
   "metadata": {},
   "outputs": [
    {
     "data": {
      "text/html": [
       "<div>\n",
       "<style scoped>\n",
       "    .dataframe tbody tr th:only-of-type {\n",
       "        vertical-align: middle;\n",
       "    }\n",
       "\n",
       "    .dataframe tbody tr th {\n",
       "        vertical-align: top;\n",
       "    }\n",
       "\n",
       "    .dataframe thead th {\n",
       "        text-align: right;\n",
       "    }\n",
       "</style>\n",
       "<table border=\"1\" class=\"dataframe\">\n",
       "  <thead>\n",
       "    <tr style=\"text-align: right;\">\n",
       "      <th></th>\n",
       "      <th>one_month_treasury</th>\n",
       "      <th>three_month_treasury</th>\n",
       "      <th>six_month_treasury</th>\n",
       "      <th>one_year_treasury</th>\n",
       "      <th>two_year_treasury</th>\n",
       "      <th>three_year_treasury</th>\n",
       "      <th>five_year_treasury</th>\n",
       "      <th>seven_year_treasury</th>\n",
       "      <th>ten_year_treasury</th>\n",
       "      <th>twenty_year_treasury</th>\n",
       "      <th>thirty_year_treasury</th>\n",
       "    </tr>\n",
       "  </thead>\n",
       "  <tbody>\n",
       "    <tr>\n",
       "      <th>2023-01-02</th>\n",
       "      <td>NaN</td>\n",
       "      <td>NaN</td>\n",
       "      <td>NaN</td>\n",
       "      <td>NaN</td>\n",
       "      <td>NaN</td>\n",
       "      <td>NaN</td>\n",
       "      <td>NaN</td>\n",
       "      <td>NaN</td>\n",
       "      <td>NaN</td>\n",
       "      <td>NaN</td>\n",
       "      <td>NaN</td>\n",
       "    </tr>\n",
       "    <tr>\n",
       "      <th>2023-01-03</th>\n",
       "      <td>4.17</td>\n",
       "      <td>4.53</td>\n",
       "      <td>4.77</td>\n",
       "      <td>4.72</td>\n",
       "      <td>4.40</td>\n",
       "      <td>4.18</td>\n",
       "      <td>3.94</td>\n",
       "      <td>3.89</td>\n",
       "      <td>3.79</td>\n",
       "      <td>4.06</td>\n",
       "      <td>3.88</td>\n",
       "    </tr>\n",
       "    <tr>\n",
       "      <th>2023-01-04</th>\n",
       "      <td>4.20</td>\n",
       "      <td>4.55</td>\n",
       "      <td>4.77</td>\n",
       "      <td>4.71</td>\n",
       "      <td>4.36</td>\n",
       "      <td>4.11</td>\n",
       "      <td>3.85</td>\n",
       "      <td>3.79</td>\n",
       "      <td>3.69</td>\n",
       "      <td>3.97</td>\n",
       "      <td>3.81</td>\n",
       "    </tr>\n",
       "    <tr>\n",
       "      <th>2023-01-05</th>\n",
       "      <td>4.30</td>\n",
       "      <td>4.66</td>\n",
       "      <td>4.81</td>\n",
       "      <td>4.78</td>\n",
       "      <td>4.45</td>\n",
       "      <td>4.18</td>\n",
       "      <td>3.90</td>\n",
       "      <td>3.82</td>\n",
       "      <td>3.71</td>\n",
       "      <td>3.96</td>\n",
       "      <td>3.78</td>\n",
       "    </tr>\n",
       "    <tr>\n",
       "      <th>2023-01-06</th>\n",
       "      <td>4.32</td>\n",
       "      <td>4.67</td>\n",
       "      <td>4.79</td>\n",
       "      <td>4.71</td>\n",
       "      <td>4.24</td>\n",
       "      <td>3.96</td>\n",
       "      <td>3.69</td>\n",
       "      <td>3.63</td>\n",
       "      <td>3.55</td>\n",
       "      <td>3.84</td>\n",
       "      <td>3.67</td>\n",
       "    </tr>\n",
       "  </tbody>\n",
       "</table>\n",
       "</div>"
      ],
      "text/plain": [
       "            one_month_treasury  three_month_treasury  six_month_treasury  \\\n",
       "2023-01-02                 NaN                   NaN                 NaN   \n",
       "2023-01-03                4.17                  4.53                4.77   \n",
       "2023-01-04                4.20                  4.55                4.77   \n",
       "2023-01-05                4.30                  4.66                4.81   \n",
       "2023-01-06                4.32                  4.67                4.79   \n",
       "\n",
       "            one_year_treasury  two_year_treasury  three_year_treasury  \\\n",
       "2023-01-02                NaN                NaN                  NaN   \n",
       "2023-01-03               4.72               4.40                 4.18   \n",
       "2023-01-04               4.71               4.36                 4.11   \n",
       "2023-01-05               4.78               4.45                 4.18   \n",
       "2023-01-06               4.71               4.24                 3.96   \n",
       "\n",
       "            five_year_treasury  seven_year_treasury  ten_year_treasury  \\\n",
       "2023-01-02                 NaN                  NaN                NaN   \n",
       "2023-01-03                3.94                 3.89               3.79   \n",
       "2023-01-04                3.85                 3.79               3.69   \n",
       "2023-01-05                3.90                 3.82               3.71   \n",
       "2023-01-06                3.69                 3.63               3.55   \n",
       "\n",
       "            twenty_year_treasury  thirty_year_treasury  \n",
       "2023-01-02                   NaN                   NaN  \n",
       "2023-01-03                  4.06                  3.88  \n",
       "2023-01-04                  3.97                  3.81  \n",
       "2023-01-05                  3.96                  3.78  \n",
       "2023-01-06                  3.84                  3.67  "
      ]
     },
     "execution_count": 4,
     "metadata": {},
     "output_type": "execute_result"
    }
   ],
   "source": [
    "start_date = \"2023-01-01\"\n",
    "end_date = \"2023-12-31\"\n",
    "treasury_yields = pd.DataFrame({\"one_month_treasury\":fred.get_series(\"DGS1MO\",start_date,end_date),\n",
    "                                \"three_month_treasury\":fred.get_series(\"DGS3MO\",start_date,end_date),\n",
    "                                \"six_month_treasury\":fred.get_series(\"DGS6MO\",start_date,end_date),\n",
    "                                \"one_year_treasury\":fred.get_series(\"DGS1\",start_date,end_date),\n",
    "                                \"two_year_treasury\":fred.get_series(\"DGS2\",start_date,end_date),\n",
    "                                \"three_year_treasury\":fred.get_series(\"DGS3\",start_date,end_date),\n",
    "                                \"five_year_treasury\":fred.get_series(\"DGS5\",start_date,end_date),\n",
    "                                \"seven_year_treasury\":fred.get_series(\"DGS7\",start_date,end_date),\n",
    "                                \"ten_year_treasury\":fred.get_series(\"DGS10\",start_date,end_date),\n",
    "                                \"twenty_year_treasury\":fred.get_series(\"DGS20\",start_date,end_date),\n",
    "                                \"thirty_year_treasury\":fred.get_series(\"DGS30\",start_date,end_date)})\n",
    "treasury_yields.head()"
   ]
  },
  {
   "cell_type": "code",
   "execution_count": 5,
   "metadata": {},
   "outputs": [
    {
     "data": {
      "text/plain": [
       "DatetimeIndex(['2023-01-02', '2023-01-03', '2023-01-04', '2023-01-05',\n",
       "               '2023-01-06', '2023-01-09', '2023-01-10', '2023-01-11',\n",
       "               '2023-01-12', '2023-01-13',\n",
       "               ...\n",
       "               '2023-12-18', '2023-12-19', '2023-12-20', '2023-12-21',\n",
       "               '2023-12-22', '2023-12-25', '2023-12-26', '2023-12-27',\n",
       "               '2023-12-28', '2023-12-29'],\n",
       "              dtype='datetime64[ns]', length=260, freq=None)"
      ]
     },
     "execution_count": 5,
     "metadata": {},
     "output_type": "execute_result"
    }
   ],
   "source": [
    "treasury_yields.index"
   ]
  },
  {
   "cell_type": "code",
   "execution_count": 6,
   "metadata": {},
   "outputs": [
    {
     "name": "stdout",
     "output_type": "stream",
     "text": [
      "Requirement already satisfied: openpyxl in c:\\users\\tommy\\appdata\\local\\packages\\pythonsoftwarefoundation.python.3.11_qbz5n2kfra8p0\\localcache\\local-packages\\python311\\site-packages (3.1.5)\n",
      "Requirement already satisfied: et-xmlfile in c:\\users\\tommy\\appdata\\local\\packages\\pythonsoftwarefoundation.python.3.11_qbz5n2kfra8p0\\localcache\\local-packages\\python311\\site-packages (from openpyxl) (2.0.0)\n",
      "Note: you may need to restart the kernel to use updated packages.\n"
     ]
    },
    {
     "name": "stderr",
     "output_type": "stream",
     "text": [
      "\n",
      "[notice] A new release of pip is available: 24.3.1 -> 25.0.1\n",
      "[notice] To update, run: C:\\Users\\tommy\\AppData\\Local\\Microsoft\\WindowsApps\\PythonSoftwareFoundation.Python.3.11_qbz5n2kfra8p0\\python.exe -m pip install --upgrade pip\n"
     ]
    }
   ],
   "source": [
    "%pip install openpyxl"
   ]
  },
  {
   "cell_type": "code",
   "execution_count": 7,
   "metadata": {},
   "outputs": [
    {
     "data": {
      "text/html": [
       "<div>\n",
       "<style scoped>\n",
       "    .dataframe tbody tr th:only-of-type {\n",
       "        vertical-align: middle;\n",
       "    }\n",
       "\n",
       "    .dataframe tbody tr th {\n",
       "        vertical-align: top;\n",
       "    }\n",
       "\n",
       "    .dataframe thead th {\n",
       "        text-align: right;\n",
       "    }\n",
       "</style>\n",
       "<table border=\"1\" class=\"dataframe\">\n",
       "  <thead>\n",
       "    <tr style=\"text-align: right;\">\n",
       "      <th></th>\n",
       "      <th>Bond ID</th>\n",
       "      <th>WAL (years)</th>\n",
       "      <th>Yield (%)</th>\n",
       "      <th>Sector</th>\n",
       "    </tr>\n",
       "  </thead>\n",
       "  <tbody>\n",
       "    <tr>\n",
       "      <th>0</th>\n",
       "      <td>Bond A</td>\n",
       "      <td>1.0</td>\n",
       "      <td>8.63</td>\n",
       "      <td>Telecommunication</td>\n",
       "    </tr>\n",
       "    <tr>\n",
       "      <th>1</th>\n",
       "      <td>Bond B</td>\n",
       "      <td>1.5</td>\n",
       "      <td>7.95</td>\n",
       "      <td>Consumer Staples</td>\n",
       "    </tr>\n",
       "    <tr>\n",
       "      <th>2</th>\n",
       "      <td>Bond C</td>\n",
       "      <td>2.2</td>\n",
       "      <td>7.53</td>\n",
       "      <td>Utilities</td>\n",
       "    </tr>\n",
       "    <tr>\n",
       "      <th>3</th>\n",
       "      <td>Bond D</td>\n",
       "      <td>3.0</td>\n",
       "      <td>7.71</td>\n",
       "      <td>Financials</td>\n",
       "    </tr>\n",
       "    <tr>\n",
       "      <th>4</th>\n",
       "      <td>Bond E</td>\n",
       "      <td>4.0</td>\n",
       "      <td>8.45</td>\n",
       "      <td>Telecommunication</td>\n",
       "    </tr>\n",
       "  </tbody>\n",
       "</table>\n",
       "</div>"
      ],
      "text/plain": [
       "  Bond ID  WAL (years)  Yield (%)             Sector\n",
       "0  Bond A          1.0       8.63  Telecommunication\n",
       "1  Bond B          1.5       7.95   Consumer Staples\n",
       "2  Bond C          2.2       7.53          Utilities\n",
       "3  Bond D          3.0       7.71         Financials\n",
       "4  Bond E          4.0       8.45  Telecommunication"
      ]
     },
     "execution_count": 7,
     "metadata": {},
     "output_type": "execute_result"
    }
   ],
   "source": [
    "bond_yields = pd.read_excel(\"bonds_yields.xlsx\")\n",
    "bond_yields.head()"
   ]
  },
  {
   "cell_type": "code",
   "execution_count": 8,
   "metadata": {},
   "outputs": [],
   "source": [
    "bond_yields = bond_yields.rename(columns = {\"Bond ID\":\"bond_id\",\"WAL (years)\":\"wal\", \"Yield (%)\":\"yield\"})"
   ]
  },
  {
   "cell_type": "code",
   "execution_count": 9,
   "metadata": {},
   "outputs": [],
   "source": [
    "from collections import defaultdict"
   ]
  },
  {
   "cell_type": "code",
   "execution_count": 10,
   "metadata": {},
   "outputs": [
    {
     "name": "stdout",
     "output_type": "stream",
     "text": [
      "{0.083: 5.13984, 0.25: 5.278839999999999, 0.5: 5.283639999999999, 1: 5.081720000000001, 2: 4.582959999999999, 3: 4.300800000000001, 5: 4.05812, 7: 4.025480000000001, 10: 3.959, 20: 4.25716, 30: 4.0948}\n"
     ]
    }
   ],
   "source": [
    "maturity_mean = dict()\n",
    "list_maturity = list(treasury_yields.columns)\n",
    "n_maturity = [0.083,0.25,0.5,1,2,3,5,7,10,20,30]\n",
    "list_mean = []\n",
    "for i in list_maturity:\n",
    "    list_mean.append(treasury_yields[i].mean())\n",
    "for i in range(len(list_mean)):\n",
    "    maturity_mean[n_maturity[i]] = list_mean[i]\n",
    "print(maturity_mean)"
   ]
  },
  {
   "cell_type": "code",
   "execution_count": 11,
   "metadata": {},
   "outputs": [
    {
     "name": "stdout",
     "output_type": "stream",
     "text": [
      "   bond_id  wal  yield             Sector   spread\n",
      "0   Bond A  1.0   8.63  Telecommunication  3.54828\n",
      "1   Bond B  1.5   7.95   Consumer Staples      NaN\n",
      "2   Bond C  2.2   7.53          Utilities      NaN\n",
      "3   Bond D  3.0   7.71         Financials  3.40920\n",
      "4   Bond E  4.0   8.45  Telecommunication      NaN\n",
      "5   Bond F  5.0   7.74   Consumer Staples  3.68188\n",
      "6   Bond G  6.2   7.66          Utilities      NaN\n",
      "7   Bond H  8.0   8.03         Financials      NaN\n",
      "8   Bond I  9.0   8.33  Telecommunication      NaN\n",
      "9   Bond J  4.5   7.38   Consumer Staples      NaN\n",
      "10  Bond K  1.3   8.55  Telecommunication      NaN\n",
      "11  Bond L  2.0   7.73   Consumer Staples  3.14704\n",
      "12  Bond M  2.8   7.61          Utilities      NaN\n",
      "13  Bond N  3.5   7.75         Financials      NaN\n",
      "14  Bond O  5.3   8.64  Telecommunication      NaN\n",
      "15  Bond P  6.0   7.56   Consumer Staples      NaN\n",
      "16  Bond Q  7.5   7.83          Utilities      NaN\n",
      "17  Bond R  8.5   8.23         Financials      NaN\n",
      "18  Bond S  5.2   8.34  Telecommunication      NaN\n",
      "19  Bond T  2.5   7.21   Consumer Staples      NaN\n",
      "20  Bond U  6.8   7.53          Utilities      NaN\n",
      "21  Bond V  7.8   7.63         Financials      NaN\n"
     ]
    }
   ],
   "source": [
    "bond_yields[\"spread\"] = bond_yields.apply(\n",
    "    lambda row: row[\"yield\"] - maturity_mean[row[\"wal\"]]\n",
    "    if row[\"wal\"] in maturity_mean else None,\n",
    "    axis=1\n",
    ")\n",
    "print(bond_yields)"
   ]
  },
  {
   "cell_type": "code",
   "execution_count": 12,
   "metadata": {},
   "outputs": [
    {
     "name": "stdout",
     "output_type": "stream",
     "text": [
      "   bond_id  wal  yield             Sector    spread\n",
      "0   Bond A  1.0   8.63  Telecommunication  3.548280\n",
      "1   Bond B  1.5   7.95   Consumer Staples  4.832340\n",
      "2   Bond C  2.2   7.53          Utilities  4.526528\n",
      "3   Bond D  3.0   7.71         Financials  3.409200\n",
      "4   Bond E  4.0   8.45  Telecommunication  4.179460\n",
      "5   Bond F  5.0   7.74   Consumer Staples  3.681880\n",
      "6   Bond G  6.2   7.66          Utilities  4.038536\n",
      "7   Bond H  8.0   8.03         Financials  4.003320\n",
      "8   Bond I  9.0   8.33  Telecommunication  3.981160\n",
      "9   Bond J  4.5   7.38   Consumer Staples  4.118790\n",
      "10  Bond K  1.3   8.55  Telecommunication  4.932092\n",
      "11  Bond L  2.0   7.73   Consumer Staples  3.147040\n",
      "12  Bond M  2.8   7.61          Utilities  4.357232\n",
      "13  Bond N  3.5   7.75         Financials  4.240130\n",
      "14  Bond O  5.3   8.64  Telecommunication  4.053224\n",
      "15  Bond P  6.0   7.56   Consumer Staples  4.041800\n",
      "16  Bond Q  7.5   7.83          Utilities  4.014400\n",
      "17  Bond R  8.5   8.23         Financials  3.992240\n",
      "18  Bond S  5.2   8.34  Telecommunication  4.054856\n",
      "19  Bond T  2.5   7.21   Consumer Staples  4.441880\n",
      "20  Bond U  6.8   7.53          Utilities  4.028744\n",
      "21  Bond V  7.8   7.63         Financials  4.007752\n"
     ]
    }
   ],
   "source": [
    "import numpy as np\n",
    "# y - y1 = (y2-y1)/(x2-x1)*(x-x1), y between y1, y2\n",
    "for i in range(len(bond_yields)):\n",
    "    if np.isnan((bond_yields.iloc[i][\"spread\"])):\n",
    "        x = bond_yields.iloc[i][\"wal\"]\n",
    "        x1, x2 = (0,0)\n",
    "        for j in maturity_mean.keys():\n",
    "            if x1 != 0 and x2 != 0:\n",
    "                y = maturity_mean[x1] + (maturity_mean[x2]-maturity_mean[x1])/(x2-x1) * (x-x1)\n",
    "                bond_yields.loc[i,\"spread\"] = y\n",
    "                continue\n",
    "            if j < x:\n",
    "                x1 = j\n",
    "            if j > x:\n",
    "                x2 = j\n",
    "print(bond_yields)\n",
    "            "
   ]
  },
  {
   "cell_type": "code",
   "execution_count": 13,
   "metadata": {},
   "outputs": [
    {
     "data": {
      "text/plain": [
       "Text(0, 0.5, 'Credit Spread')"
      ]
     },
     "execution_count": 13,
     "metadata": {},
     "output_type": "execute_result"
    },
    {
     "data": {
      "image/png": "[encoded data removed]",
      "text/plain": [
       "<Figure size 640x480 with 1 Axes>"
      ]
     },
     "metadata": {},
     "output_type": "display_data"
    }
   ],
   "source": [
    "from matplotlib import pyplot as plt\n",
    "WALlist = sorted(list(bond_yields[\"wal\"]))\n",
    "spreadlist = (list(bond_yields[\"spread\"]))\n",
    "plt.plot(WALlist,spreadlist)\n",
    "plt.xlabel(\"Weighted Average Life\")\n",
    "plt.ylabel(\"Credit Spread\")"
   ]
  },
  {
   "cell_type": "markdown",
   "metadata": {},
   "source": [
    "As we can see, here, the spread of bonds with different weighted average life does not display a clear pattern and has a lot of outliers, which makes sense since we're matching the corresponding treasury yield with the bond's WAL, and while bonds with higher weighted average life tends to have a higher yield, so does the treasury bonds with higher yields. This, combining with the fact that we have a very small sample size, makes it hard to capture strong pattern from a line graph like this. So, we can try something else."
   ]
  },
  {
   "cell_type": "code",
   "execution_count": 14,
   "metadata": {},
   "outputs": [
    {
     "ename": "OperationalError",
     "evalue": "table bond_yields already exists",
     "output_type": "error",
     "traceback": [
      "\u001b[1;31m---------------------------------------------------------------------------\u001b[0m",
      "\u001b[1;31mOperationalError\u001b[0m                          Traceback (most recent call last)",
      "Cell \u001b[1;32mIn[14], line 4\u001b[0m\n\u001b[0;32m      2\u001b[0m conn \u001b[38;5;241m=\u001b[39m sqlite3\u001b[38;5;241m.\u001b[39mconnect(\u001b[38;5;124m\"\u001b[39m\u001b[38;5;124mbonds.db\u001b[39m\u001b[38;5;124m\"\u001b[39m)\n\u001b[0;32m      3\u001b[0m cursor \u001b[38;5;241m=\u001b[39m conn\u001b[38;5;241m.\u001b[39mcursor()\n\u001b[1;32m----> 4\u001b[0m \u001b[43mcursor\u001b[49m\u001b[38;5;241;43m.\u001b[39;49m\u001b[43mexecute\u001b[49m\u001b[43m(\u001b[49m\u001b[38;5;124;43m'''\u001b[39;49m\u001b[38;5;124;43mCREATE TABLE bond_yields (\u001b[39;49m\n\u001b[0;32m      5\u001b[0m \u001b[38;5;124;43m               bond_id TEXT PRIMARY KEY,\u001b[39;49m\n\u001b[0;32m      6\u001b[0m \u001b[38;5;124;43m               wal FLOAT,\u001b[39;49m\n\u001b[0;32m      7\u001b[0m \u001b[38;5;124;43m               yield FLOAT,\u001b[39;49m\n\u001b[0;32m      8\u001b[0m \u001b[38;5;124;43m               Sector TEXT,\u001b[39;49m\n\u001b[0;32m      9\u001b[0m \u001b[38;5;124;43m               spread FLOAT\u001b[39;49m\n\u001b[0;32m     10\u001b[0m \u001b[38;5;124;43m               )\u001b[39;49m\u001b[38;5;124;43m'''\u001b[39;49m\u001b[43m)\u001b[49m\n\u001b[0;32m     11\u001b[0m conn\u001b[38;5;241m.\u001b[39mcommit()\n",
      "\u001b[1;31mOperationalError\u001b[0m: table bond_yields already exists"
     ]
    }
   ],
   "source": [
    "import sqlite3\n",
    "conn = sqlite3.connect(\"bonds.db\")\n",
    "cursor = conn.cursor()\n",
    "cursor.execute('''CREATE TABLE bond_yields (\n",
    "               bond_id TEXT PRIMARY KEY,\n",
    "               wal FLOAT,\n",
    "               yield FLOAT,\n",
    "               Sector TEXT,\n",
    "               spread FLOAT\n",
    "               )''')\n",
    "conn.commit()"
   ]
  },
  {
   "cell_type": "code",
   "execution_count": null,
   "metadata": {},
   "outputs": [
    {
     "data": {
      "text/plain": [
       "22"
      ]
     },
     "execution_count": 83,
     "metadata": {},
     "output_type": "execute_result"
    }
   ],
   "source": [
    "bond_yields.to_sql(\"bond_yields\",con=conn,if_exists=\"replace\",index=False)"
   ]
  },
  {
   "cell_type": "code",
   "execution_count": null,
   "metadata": {},
   "outputs": [
    {
     "name": "stdout",
     "output_type": "stream",
     "text": [
      "   bond_id  wal  yield             Sector    spread\n",
      "0   Bond A  1.0   8.63  Telecommunication  3.548280\n",
      "1   Bond B  1.5   7.95   Consumer Staples  4.832340\n",
      "2   Bond C  2.2   7.53          Utilities  4.526528\n",
      "3   Bond D  3.0   7.71         Financials  3.409200\n",
      "4   Bond E  4.0   8.45  Telecommunication  4.179460\n",
      "5   Bond F  5.0   7.74   Consumer Staples  3.681880\n",
      "6   Bond G  6.2   7.66          Utilities  4.038536\n",
      "7   Bond H  8.0   8.03         Financials  4.003320\n",
      "8   Bond I  9.0   8.33  Telecommunication  3.981160\n",
      "9   Bond J  4.5   7.38   Consumer Staples  4.118790\n",
      "10  Bond K  1.3   8.55  Telecommunication  4.932092\n",
      "11  Bond L  2.0   7.73   Consumer Staples  3.147040\n",
      "12  Bond M  2.8   7.61          Utilities  4.357232\n",
      "13  Bond N  3.5   7.75         Financials  4.240130\n",
      "14  Bond O  5.3   8.64  Telecommunication  4.053224\n",
      "15  Bond P  6.0   7.56   Consumer Staples  4.041800\n",
      "16  Bond Q  7.5   7.83          Utilities  4.014400\n",
      "17  Bond R  8.5   8.23         Financials  3.992240\n",
      "18  Bond S  5.2   8.34  Telecommunication  4.054856\n",
      "19  Bond T  2.5   7.21   Consumer Staples  4.441880\n",
      "20  Bond U  6.8   7.53          Utilities  4.028744\n",
      "21  Bond V  7.8   7.63         Financials  4.007752\n"
     ]
    }
   ],
   "source": [
    "print(pd.read_sql(\"SELECT * FROM bond_yields\",conn))"
   ]
  },
  {
   "cell_type": "code",
   "execution_count": null,
   "metadata": {},
   "outputs": [
    {
     "data": {
      "text/html": [
       "<div>\n",
       "<style scoped>\n",
       "    .dataframe tbody tr th:only-of-type {\n",
       "        vertical-align: middle;\n",
       "    }\n",
       "\n",
       "    .dataframe tbody tr th {\n",
       "        vertical-align: top;\n",
       "    }\n",
       "\n",
       "    .dataframe thead th {\n",
       "        text-align: right;\n",
       "    }\n",
       "</style>\n",
       "<table border=\"1\" class=\"dataframe\">\n",
       "  <thead>\n",
       "    <tr style=\"text-align: right;\">\n",
       "      <th></th>\n",
       "      <th>Sector</th>\n",
       "      <th>average_spread</th>\n",
       "    </tr>\n",
       "  </thead>\n",
       "  <tbody>\n",
       "    <tr>\n",
       "      <th>0</th>\n",
       "      <td>Consumer Staples</td>\n",
       "      <td>4.043955</td>\n",
       "    </tr>\n",
       "    <tr>\n",
       "      <th>1</th>\n",
       "      <td>Financials</td>\n",
       "      <td>3.930528</td>\n",
       "    </tr>\n",
       "    <tr>\n",
       "      <th>2</th>\n",
       "      <td>Telecommunication</td>\n",
       "      <td>4.124845</td>\n",
       "    </tr>\n",
       "    <tr>\n",
       "      <th>3</th>\n",
       "      <td>Utilities</td>\n",
       "      <td>4.193088</td>\n",
       "    </tr>\n",
       "  </tbody>\n",
       "</table>\n",
       "</div>"
      ],
      "text/plain": [
       "              Sector  average_spread\n",
       "0   Consumer Staples        4.043955\n",
       "1         Financials        3.930528\n",
       "2  Telecommunication        4.124845\n",
       "3          Utilities        4.193088"
      ]
     },
     "execution_count": 124,
     "metadata": {},
     "output_type": "execute_result"
    }
   ],
   "source": [
    "by_sector = pd.read_sql(\"SELECT Sector, AVG(spread) AS average_spread FROM bond_yields GROUP BY Sector\",conn)\n",
    "by_sector"
   ]
  },
  {
   "cell_type": "code",
   "execution_count": null,
   "metadata": {},
   "outputs": [
    {
     "data": {
      "text/plain": [
       "Text(0.5, 1.0, 'Average Spread By Sector')"
      ]
     },
     "execution_count": 128,
     "metadata": {},
     "output_type": "execute_result"
    },
    {
     "data": {
      "image/png": "[encoded data removed]",
      "text/plain": [
       "<Figure size 640x480 with 1 Axes>"
      ]
     },
     "metadata": {},
     "output_type": "display_data"
    }
   ],
   "source": [
    "plt.bar(list(by_sector[\"Sector\"]),list(by_sector[\"average_spread\"]),color = [\"red\",\"green\",\"blue\",\"purple\"])\n",
    "plt.yscale(\"log\")\n",
    "plt.title(\"Average Spread By Sector\")"
   ]
  },
  {
   "cell_type": "markdown",
   "metadata": {},
   "source": [
    "As we can see, on average these sectors' performances are pretty close due to the fair pricing of the market, but utilities perform the best and financials performs the worth. That's a diffference of over 0.2, which is not a lot, but not negligible either. \n",
    "\n",
    "However, is this really the case? After all, we have a small sample size, and we might want to consider the effect of WAL in these spreads, as some sections that perform well could simply be having a higher WAL. Sure, as mentioned previously, we matched the bonds yields with the corresponding treasury yields, but credit risk increases much slower in treasury bonds compared to corporate bonds as their maturity grows, so we would still expect a higher spread in high WAL corporate bonds."
   ]
  },
  {
   "cell_type": "code",
   "execution_count": 15,
   "metadata": {},
   "outputs": [
    {
     "name": "stdout",
     "output_type": "stream",
     "text": [
      "              Sector  average_wal\n",
      "0   Consumer Staples     3.583333\n",
      "1         Financials     6.160000\n",
      "2  Telecommunication     4.300000\n",
      "3          Utilities     5.100000\n"
     ]
    }
   ],
   "source": [
    "wal_by_sector = (pd.read_sql(\"SELECT Sector, AVG(wal) AS average_wal FROM bond_yields GROUP BY Sector\",conn))\n",
    "print(wal_by_sector)"
   ]
  },
  {
   "cell_type": "code",
   "execution_count": null,
   "metadata": {},
   "outputs": [
    {
     "data": {
      "text/plain": [
       "Text(0.5, 1.0, 'Average WAL By Sector')"
      ]
     },
     "execution_count": 17,
     "metadata": {},
     "output_type": "execute_result"
    },
    {
     "data": {
      "image/png": "[encoded data removed]",
      "text/plain": [
       "<Figure size 640x480 with 1 Axes>"
      ]
     },
     "metadata": {},
     "output_type": "display_data"
    }
   ],
   "source": [
    "plt.bar(list(wal_by_sector[\"Sector\"]),list(wal_by_sector[\"average_wal\"]),color = [\"red\",\"green\",\"blue\",\"purple\"])\n",
    "plt.title(\"Average WAL By Sector\")"
   ]
  },
  {
   "cell_type": "markdown",
   "metadata": {},
   "source": [
    "As we can see, the pattern of average WAL and average spread actually matches for Consumer Staples, Telecommunication, and Utilities. This means that the only valuable information we could get from the previous graphs is that Financials don't perform well (high WAL, low spread). To get a reasonable result, we need to punish higher WAL with certain risk aversion parameters that takes into account of the investor's utilities. Since we don't have too much time or data to tune the hyperparameter here, I will just set it as 0.2 so the punishment is visible but not too strong."
   ]
  },
  {
   "cell_type": "code",
   "execution_count": 121,
   "metadata": {},
   "outputs": [
    {
     "data": {
      "text/html": [
       "<div>\n",
       "<style scoped>\n",
       "    .dataframe tbody tr th:only-of-type {\n",
       "        vertical-align: middle;\n",
       "    }\n",
       "\n",
       "    .dataframe tbody tr th {\n",
       "        vertical-align: top;\n",
       "    }\n",
       "\n",
       "    .dataframe thead th {\n",
       "        text-align: right;\n",
       "    }\n",
       "</style>\n",
       "<table border=\"1\" class=\"dataframe\">\n",
       "  <thead>\n",
       "    <tr style=\"text-align: right;\">\n",
       "      <th></th>\n",
       "      <th>Sector</th>\n",
       "      <th>mean_adjusted_spread</th>\n",
       "    </tr>\n",
       "  </thead>\n",
       "  <tbody>\n",
       "    <tr>\n",
       "      <th>0</th>\n",
       "      <td>Consumer Staples</td>\n",
       "      <td>4.532340</td>\n",
       "    </tr>\n",
       "    <tr>\n",
       "      <th>1</th>\n",
       "      <td>Financials</td>\n",
       "      <td>2.809200</td>\n",
       "    </tr>\n",
       "    <tr>\n",
       "      <th>2</th>\n",
       "      <td>Telecommunication</td>\n",
       "      <td>3.348280</td>\n",
       "    </tr>\n",
       "    <tr>\n",
       "      <th>3</th>\n",
       "      <td>Utilities</td>\n",
       "      <td>4.086528</td>\n",
       "    </tr>\n",
       "  </tbody>\n",
       "</table>\n",
       "</div>"
      ],
      "text/plain": [
       "              Sector  mean_adjusted_spread\n",
       "0   Consumer Staples              4.532340\n",
       "1         Financials              2.809200\n",
       "2  Telecommunication              3.348280\n",
       "3          Utilities              4.086528"
      ]
     },
     "execution_count": 121,
     "metadata": {},
     "output_type": "execute_result"
    }
   ],
   "source": [
    "weighted_sectors = pd.read_sql('''WITH adjusted_sectors AS (SELECT Sector, spread - 0.2*wal AS adjusted_spread FROM bond_yields GROUP BY Sector) \n",
    "                               SELECT Sector, AVG(adjusted_spread) AS mean_adjusted_spread FROM adjusted_sectors GROUP BY Sector''',conn)\n",
    "weighted_sectors"
   ]
  },
  {
   "cell_type": "code",
   "execution_count": 122,
   "metadata": {},
   "outputs": [
    {
     "data": {
      "text/plain": [
       "Text(0.5, 1.0, 'Average Adjusted Spread by Sector')"
      ]
     },
     "execution_count": 122,
     "metadata": {},
     "output_type": "execute_result"
    },
    {
     "data": {
      "image/png": "[encoded data removed]",
      "text/plain": [
       "<Figure size 640x480 with 1 Axes>"
      ]
     },
     "metadata": {},
     "output_type": "display_data"
    }
   ],
   "source": [
    "plt.bar(list(weighted_sectors[\"Sector\"]),list(weighted_sectors[\"mean_adjusted_spread\"]),color = [\"red\",\"green\",\"blue\",\"purple\"])\n",
    "plt.title(\"Average Adjusted Spread by Sector\")"
   ]
  },
  {
   "cell_type": "markdown",
   "metadata": {},
   "source": [
    "Here, we can see that Consumer Staples actually performs the best, having the WAL and credit risk taken into account. So it seems like we have, in ranking of value,\n",
    "Consumer Staples > Utilities > Telecommunication > Financials."
   ]
  }
 ],
 "metadata": {
  "kernelspec": {
   "display_name": "Python 3",
   "language": "python",
   "name": "python3"
  },
  "language_info": {
   "codemirror_mode": {
    "name": "ipython",
    "version": 3
   },
   "file_extension": ".py",
   "mimetype": "text/x-python",
   "name": "python",
   "nbconvert_exporter": "python",
   "pygments_lexer": "ipython3",
   "version": "3.11.9"
  }
 },
 "nbformat": 4,
 "nbformat_minor": 2
}
